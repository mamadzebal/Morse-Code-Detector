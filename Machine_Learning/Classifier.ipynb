{
 "cells": [
  {
   "cell_type": "markdown",
   "id": "given-organ",
   "metadata": {},
   "source": [
    "# Train your for classifier for MicroPython"
   ]
  },
  {
   "cell_type": "code",
   "execution_count": 1,
   "id": "vulnerable-cause",
   "metadata": {},
   "outputs": [],
   "source": [
    "#! pip3 install -U everywhereml\n",
    "#! pip3 install -U pandas\n",
    "#! pip3 install -U scikit-learn"
   ]
  },
  {
   "cell_type": "markdown",
   "id": "russian-journalist",
   "metadata": {},
   "source": [
    "### Import your dataset and inspect your data"
   ]
  },
  {
   "cell_type": "code",
   "execution_count": 1,
   "id": "color-watson",
   "metadata": {},
   "outputs": [
    {
     "data": {
      "text/html": [
       "<div>\n",
       "<style scoped>\n",
       "    .dataframe tbody tr th:only-of-type {\n",
       "        vertical-align: middle;\n",
       "    }\n",
       "\n",
       "    .dataframe tbody tr th {\n",
       "        vertical-align: top;\n",
       "    }\n",
       "\n",
       "    .dataframe thead th {\n",
       "        text-align: right;\n",
       "    }\n",
       "</style>\n",
       "<table border=\"1\" class=\"dataframe\">\n",
       "  <thead>\n",
       "    <tr style=\"text-align: right;\">\n",
       "      <th></th>\n",
       "      <th>X</th>\n",
       "      <th>Y</th>\n",
       "      <th>Z</th>\n",
       "      <th>GX</th>\n",
       "      <th>GY</th>\n",
       "      <th>GZ</th>\n",
       "      <th>Label</th>\n",
       "    </tr>\n",
       "  </thead>\n",
       "  <tbody>\n",
       "    <tr>\n",
       "      <th>0</th>\n",
       "      <td>0.230</td>\n",
       "      <td>0.086</td>\n",
       "      <td>0.847</td>\n",
       "      <td>-4.272</td>\n",
       "      <td>21.301</td>\n",
       "      <td>-24.719</td>\n",
       "      <td>0</td>\n",
       "    </tr>\n",
       "    <tr>\n",
       "      <th>1</th>\n",
       "      <td>0.101</td>\n",
       "      <td>0.152</td>\n",
       "      <td>0.962</td>\n",
       "      <td>22.095</td>\n",
       "      <td>71.228</td>\n",
       "      <td>-22.095</td>\n",
       "      <td>0</td>\n",
       "    </tr>\n",
       "    <tr>\n",
       "      <th>2</th>\n",
       "      <td>0.076</td>\n",
       "      <td>0.132</td>\n",
       "      <td>1.078</td>\n",
       "      <td>3.906</td>\n",
       "      <td>11.292</td>\n",
       "      <td>-8.667</td>\n",
       "      <td>0</td>\n",
       "    </tr>\n",
       "    <tr>\n",
       "      <th>3</th>\n",
       "      <td>0.063</td>\n",
       "      <td>0.129</td>\n",
       "      <td>0.978</td>\n",
       "      <td>-7.324</td>\n",
       "      <td>-10.864</td>\n",
       "      <td>4.517</td>\n",
       "      <td>0</td>\n",
       "    </tr>\n",
       "    <tr>\n",
       "      <th>4</th>\n",
       "      <td>0.110</td>\n",
       "      <td>0.076</td>\n",
       "      <td>1.051</td>\n",
       "      <td>-9.399</td>\n",
       "      <td>-6.042</td>\n",
       "      <td>4.883</td>\n",
       "      <td>0</td>\n",
       "    </tr>\n",
       "  </tbody>\n",
       "</table>\n",
       "</div>"
      ],
      "text/plain": [
       "       X      Y      Z      GX      GY      GZ  Label\n",
       "0  0.230  0.086  0.847  -4.272  21.301 -24.719      0\n",
       "1  0.101  0.152  0.962  22.095  71.228 -22.095      0\n",
       "2  0.076  0.132  1.078   3.906  11.292  -8.667      0\n",
       "3  0.063  0.129  0.978  -7.324 -10.864   4.517      0\n",
       "4  0.110  0.076  1.051  -9.399  -6.042   4.883      0"
      ]
     },
     "execution_count": 1,
     "metadata": {},
     "output_type": "execute_result"
    }
   ],
   "source": [
    "import pandas as pd\n",
    "df = pd.read_csv(\"C:/Users/moham/OneDrive/Desktop/Summer School/Project/dataset1.csv\", sep=\",\")\n",
    "df.head()"
   ]
  },
  {
   "cell_type": "code",
   "execution_count": 2,
   "id": "horizontal-helicopter",
   "metadata": {},
   "outputs": [
    {
     "data": {
      "text/html": [
       "<div>\n",
       "<style scoped>\n",
       "    .dataframe tbody tr th:only-of-type {\n",
       "        vertical-align: middle;\n",
       "    }\n",
       "\n",
       "    .dataframe tbody tr th {\n",
       "        vertical-align: top;\n",
       "    }\n",
       "\n",
       "    .dataframe thead th {\n",
       "        text-align: right;\n",
       "    }\n",
       "</style>\n",
       "<table border=\"1\" class=\"dataframe\">\n",
       "  <thead>\n",
       "    <tr style=\"text-align: right;\">\n",
       "      <th></th>\n",
       "      <th>X</th>\n",
       "      <th>Y</th>\n",
       "      <th>Z</th>\n",
       "      <th>GX</th>\n",
       "      <th>GY</th>\n",
       "      <th>GZ</th>\n",
       "      <th>Label</th>\n",
       "    </tr>\n",
       "  </thead>\n",
       "  <tbody>\n",
       "    <tr>\n",
       "      <th>507</th>\n",
       "      <td>1.014</td>\n",
       "      <td>0.047</td>\n",
       "      <td>0.008</td>\n",
       "      <td>0.488</td>\n",
       "      <td>-0.122</td>\n",
       "      <td>0.427</td>\n",
       "      <td>3</td>\n",
       "    </tr>\n",
       "    <tr>\n",
       "      <th>508</th>\n",
       "      <td>1.008</td>\n",
       "      <td>0.033</td>\n",
       "      <td>0.006</td>\n",
       "      <td>0.488</td>\n",
       "      <td>0.122</td>\n",
       "      <td>0.122</td>\n",
       "      <td>3</td>\n",
       "    </tr>\n",
       "    <tr>\n",
       "      <th>509</th>\n",
       "      <td>1.007</td>\n",
       "      <td>0.034</td>\n",
       "      <td>0.013</td>\n",
       "      <td>-0.366</td>\n",
       "      <td>0.183</td>\n",
       "      <td>0.183</td>\n",
       "      <td>3</td>\n",
       "    </tr>\n",
       "    <tr>\n",
       "      <th>510</th>\n",
       "      <td>1.005</td>\n",
       "      <td>0.035</td>\n",
       "      <td>0.009</td>\n",
       "      <td>0.549</td>\n",
       "      <td>0.488</td>\n",
       "      <td>0.366</td>\n",
       "      <td>3</td>\n",
       "    </tr>\n",
       "    <tr>\n",
       "      <th>511</th>\n",
       "      <td>1.010</td>\n",
       "      <td>0.036</td>\n",
       "      <td>0.006</td>\n",
       "      <td>-0.732</td>\n",
       "      <td>-0.122</td>\n",
       "      <td>0.916</td>\n",
       "      <td>3</td>\n",
       "    </tr>\n",
       "  </tbody>\n",
       "</table>\n",
       "</div>"
      ],
      "text/plain": [
       "         X      Y      Z     GX     GY     GZ  Label\n",
       "507  1.014  0.047  0.008  0.488 -0.122  0.427      3\n",
       "508  1.008  0.033  0.006  0.488  0.122  0.122      3\n",
       "509  1.007  0.034  0.013 -0.366  0.183  0.183      3\n",
       "510  1.005  0.035  0.009  0.549  0.488  0.366      3\n",
       "511  1.010  0.036  0.006 -0.732 -0.122  0.916      3"
      ]
     },
     "execution_count": 2,
     "metadata": {},
     "output_type": "execute_result"
    }
   ],
   "source": [
    "df.tail()"
   ]
  },
  {
   "cell_type": "markdown",
   "id": "vietnamese-audit",
   "metadata": {},
   "source": [
    "* Showing Dot (0)\n",
    "* Showing Dash (1)\n",
    "* End of stream for alphabet (2), \n",
    "* Showing Space (3)"
   ]
  },
  {
   "cell_type": "markdown",
   "id": "congressional-virgin",
   "metadata": {},
   "source": [
    "### Check for class balance"
   ]
  },
  {
   "cell_type": "code",
   "execution_count": 3,
   "id": "hindu-somalia",
   "metadata": {},
   "outputs": [
    {
     "data": {
      "text/plain": [
       "0    128\n",
       "1    128\n",
       "2    128\n",
       "3    128\n",
       "Name: Label, dtype: int64"
      ]
     },
     "execution_count": 3,
     "metadata": {},
     "output_type": "execute_result"
    }
   ],
   "source": [
    "df.Label.value_counts()#/len(df)"
   ]
  },
  {
   "cell_type": "markdown",
   "id": "suitable-terminology",
   "metadata": {},
   "source": [
    "### Split your data into train and test set to check if your model generalizes"
   ]
  },
  {
   "cell_type": "code",
   "execution_count": 14,
   "id": "incredible-behavior",
   "metadata": {},
   "outputs": [],
   "source": [
    "from sklearn.model_selection import train_test_split\n",
    "\n",
    "X = df[[\"X\", \"Y\", \"Z\", \"GX\", \"GY\", \"GZ\"]].iloc[1:].values\n",
    "y = df.Label.iloc[1:].values\n",
    "\n",
    "X_train, X_test, y_train, y_test = train_test_split(X, y, test_size=0.3)"
   ]
  },
  {
   "cell_type": "markdown",
   "id": "curious-guarantee",
   "metadata": {},
   "source": [
    "### Train your model"
   ]
  },
  {
   "cell_type": "code",
   "execution_count": 18,
   "id": "agricultural-brunswick",
   "metadata": {},
   "outputs": [
    {
     "name": "stdout",
     "output_type": "stream",
     "text": [
      "Score: 0.981\n"
     ]
    }
   ],
   "source": [
    "from everywhereml.sklearn.ensemble import RandomForestClassifier\n",
    "\n",
    "max_leaf_nodes = 5\n",
    "clf = RandomForestClassifier(n_estimators=20, max_leaf_nodes=max_leaf_nodes)\n",
    "\n",
    "#from sklearn.tree import DecisionTreeClassifier\n",
    "#clf = DecisionTreeClassifier()\n",
    "\n",
    "clf.fit(X_train, y_train)\n",
    "\n",
    "print(f'Score: {clf.score(X_test, y_test):3.3f}')"
   ]
  },
  {
   "cell_type": "markdown",
   "id": "necessary-weight",
   "metadata": {},
   "source": [
    "### Validate your accuracy"
   ]
  },
  {
   "cell_type": "code",
   "execution_count": 19,
   "id": "northern-impression",
   "metadata": {},
   "outputs": [
    {
     "data": {
      "text/plain": [
       "<matplotlib.colorbar.Colorbar at 0x21b1c265940>"
      ]
     },
     "execution_count": 19,
     "metadata": {},
     "output_type": "execute_result"
    },
    {
     "data": {
      "image/png": "[encoded data removed]",
      "text/plain": [
       "<Figure size 640x480 with 2 Axes>"
      ]
     },
     "metadata": {},
     "output_type": "display_data"
    }
   ],
   "source": [
    "from sklearn.metrics import confusion_matrix\n",
    "import matplotlib.pyplot as plt\n",
    "\n",
    "y_true = y_test\n",
    "y_pred = clf.predict(X_test)\n",
    "\n",
    "plt.imshow(confusion_matrix(y_true, y_pred))\n",
    "plt.colorbar()"
   ]
  },
  {
   "cell_type": "markdown",
   "id": "charming-palmer",
   "metadata": {},
   "source": [
    "### Export your model to MicoPython"
   ]
  },
  {
   "cell_type": "code",
   "execution_count": null,
   "id": "adequate-evening",
   "metadata": {},
   "outputs": [],
   "source": [
    "clf.to_micropython_file(\"MyModel.py\")"
   ]
  },
  {
   "cell_type": "code",
   "execution_count": 10,
   "id": "adolescent-junior",
   "metadata": {},
   "outputs": [
    {
     "data": {
      "text/plain": [
       "array([0])"
      ]
     },
     "execution_count": 10,
     "metadata": {},
     "output_type": "execute_result"
    }
   ],
   "source": [
    "clf.predict([[0,0,0]])"
   ]
  },
  {
   "cell_type": "code",
   "execution_count": null,
   "id": "arbitrary-award",
   "metadata": {},
   "outputs": [],
   "source": []
  }
 ],
 "metadata": {
  "kernelspec": {
   "display_name": "Python 3 (ipykernel)",
   "language": "python",
   "name": "python3"
  },
  "language_info": {
   "codemirror_mode": {
    "name": "ipython",
    "version": 3
   },
   "file_extension": ".py",
   "mimetype": "text/x-python",
   "name": "python",
   "nbconvert_exporter": "python",
   "pygments_lexer": "ipython3",
   "version": "3.9.4"
  }
 },
 "nbformat": 4,
 "nbformat_minor": 5
}
